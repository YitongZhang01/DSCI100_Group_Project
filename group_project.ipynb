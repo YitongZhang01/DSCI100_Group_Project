{
 "cells": [
  {
   "cell_type": "code",
   "execution_count": null,
   "metadata": {},
   "outputs": [],
   "source": [
    "#Group project"
   ]
  },
  {
   "cell_type": "code",
   "execution_count": 1,
   "metadata": {},
   "outputs": [
    {
     "name": "stderr",
     "output_type": "stream",
     "text": [
      "── \u001b[1mAttaching packages\u001b[22m ─────────────────────────────────────── tidyverse 1.3.0 ──\n",
      "\n",
      "\u001b[32m✔\u001b[39m \u001b[34mggplot2\u001b[39m 3.3.2     \u001b[32m✔\u001b[39m \u001b[34mpurrr  \u001b[39m 0.3.4\n",
      "\u001b[32m✔\u001b[39m \u001b[34mtibble \u001b[39m 3.0.3     \u001b[32m✔\u001b[39m \u001b[34mdplyr  \u001b[39m 1.0.2\n",
      "\u001b[32m✔\u001b[39m \u001b[34mtidyr  \u001b[39m 1.1.2     \u001b[32m✔\u001b[39m \u001b[34mstringr\u001b[39m 1.4.0\n",
      "\u001b[32m✔\u001b[39m \u001b[34mreadr  \u001b[39m 1.3.1     \u001b[32m✔\u001b[39m \u001b[34mforcats\u001b[39m 0.5.0\n",
      "\n",
      "Warning message:\n",
      "“package ‘ggplot2’ was built under R version 4.0.1”\n",
      "Warning message:\n",
      "“package ‘tibble’ was built under R version 4.0.2”\n",
      "Warning message:\n",
      "“package ‘tidyr’ was built under R version 4.0.2”\n",
      "Warning message:\n",
      "“package ‘dplyr’ was built under R version 4.0.2”\n",
      "── \u001b[1mConflicts\u001b[22m ────────────────────────────────────────── tidyverse_conflicts() ──\n",
      "\u001b[31m✖\u001b[39m \u001b[34mdplyr\u001b[39m::\u001b[32mfilter()\u001b[39m masks \u001b[34mstats\u001b[39m::filter()\n",
      "\u001b[31m✖\u001b[39m \u001b[34mdplyr\u001b[39m::\u001b[32mlag()\u001b[39m    masks \u001b[34mstats\u001b[39m::lag()\n",
      "\n",
      "Warning message:\n",
      "“package ‘tidymodels’ was built under R version 4.0.2”\n",
      "── \u001b[1mAttaching packages\u001b[22m ────────────────────────────────────── tidymodels 0.1.1 ──\n",
      "\n",
      "\u001b[32m✔\u001b[39m \u001b[34mbroom    \u001b[39m 0.7.0      \u001b[32m✔\u001b[39m \u001b[34mrecipes  \u001b[39m 0.1.13\n",
      "\u001b[32m✔\u001b[39m \u001b[34mdials    \u001b[39m 0.0.9      \u001b[32m✔\u001b[39m \u001b[34mrsample  \u001b[39m 0.0.7 \n",
      "\u001b[32m✔\u001b[39m \u001b[34minfer    \u001b[39m 0.5.4      \u001b[32m✔\u001b[39m \u001b[34mtune     \u001b[39m 0.1.1 \n",
      "\u001b[32m✔\u001b[39m \u001b[34mmodeldata\u001b[39m 0.0.2      \u001b[32m✔\u001b[39m \u001b[34mworkflows\u001b[39m 0.2.0 \n",
      "\u001b[32m✔\u001b[39m \u001b[34mparsnip  \u001b[39m 0.1.3      \u001b[32m✔\u001b[39m \u001b[34myardstick\u001b[39m 0.0.7 \n",
      "\n",
      "Warning message:\n",
      "“package ‘broom’ was built under R version 4.0.2”\n",
      "Warning message:\n",
      "“package ‘dials’ was built under R version 4.0.2”\n",
      "Warning message:\n",
      "“package ‘infer’ was built under R version 4.0.3”\n",
      "Warning message:\n",
      "“package ‘modeldata’ was built under R version 4.0.1”\n",
      "Warning message:\n",
      "“package ‘parsnip’ was built under R version 4.0.2”\n",
      "Warning message:\n",
      "“package ‘recipes’ was built under R version 4.0.1”\n",
      "Warning message:\n",
      "“package ‘tune’ was built under R version 4.0.2”\n",
      "Warning message:\n",
      "“package ‘workflows’ was built under R version 4.0.2”\n",
      "Warning message:\n",
      "“package ‘yardstick’ was built under R version 4.0.2”\n",
      "── \u001b[1mConflicts\u001b[22m ───────────────────────────────────────── tidymodels_conflicts() ──\n",
      "\u001b[31m✖\u001b[39m \u001b[34mscales\u001b[39m::\u001b[32mdiscard()\u001b[39m masks \u001b[34mpurrr\u001b[39m::discard()\n",
      "\u001b[31m✖\u001b[39m \u001b[34mdplyr\u001b[39m::\u001b[32mfilter()\u001b[39m   masks \u001b[34mstats\u001b[39m::filter()\n",
      "\u001b[31m✖\u001b[39m \u001b[34mrecipes\u001b[39m::\u001b[32mfixed()\u001b[39m  masks \u001b[34mstringr\u001b[39m::fixed()\n",
      "\u001b[31m✖\u001b[39m \u001b[34mdplyr\u001b[39m::\u001b[32mlag()\u001b[39m      masks \u001b[34mstats\u001b[39m::lag()\n",
      "\u001b[31m✖\u001b[39m \u001b[34myardstick\u001b[39m::\u001b[32mspec()\u001b[39m masks \u001b[34mreadr\u001b[39m::spec()\n",
      "\u001b[31m✖\u001b[39m \u001b[34mrecipes\u001b[39m::\u001b[32mstep()\u001b[39m   masks \u001b[34mstats\u001b[39m::step()\n",
      "\n",
      "\n",
      "Attaching package: ‘data.table’\n",
      "\n",
      "\n",
      "The following objects are masked from ‘package:dplyr’:\n",
      "\n",
      "    between, first, last\n",
      "\n",
      "\n",
      "The following object is masked from ‘package:purrr’:\n",
      "\n",
      "    transpose\n",
      "\n",
      "\n",
      "Warning message in file(filename, \"r\", encoding = encoding):\n",
      "“cannot open file 'tests.R': No such file or directory”\n"
     ]
    },
    {
     "ename": "ERROR",
     "evalue": "Error in file(filename, \"r\", encoding = encoding): cannot open the connection\n",
     "output_type": "error",
     "traceback": [
      "Error in file(filename, \"r\", encoding = encoding): cannot open the connection\nTraceback:\n",
      "1. source(\"tests.R\")",
      "2. file(filename, \"r\", encoding = encoding)"
     ]
    }
   ],
   "source": [
    "# import packages\n",
    "library(tidyverse)\n",
    "library(readxl)\n",
    "library(repr)\n",
    "library(tidymodels)                                    # Install data.table\n",
    "library(\"data.table\")  \n",
    "options(repr.matrix.max.rows = 6)\n",
    "source('tests.R')\n",
    "source('cleanup.R')"
   ]
  },
  {
   "cell_type": "code",
   "execution_count": 37,
   "metadata": {},
   "outputs": [],
   "source": [
    "train <- read_excel(\"data/Training_data.xls\") %>% mutate(Class = as_factor(UNS))"
   ]
  },
  {
   "cell_type": "code",
   "execution_count": 38,
   "metadata": {},
   "outputs": [
    {
     "data": {
      "text/html": [
       "<table>\n",
       "<caption>A tibble: 258 × 7</caption>\n",
       "<thead>\n",
       "\t<tr><th scope=col>STG</th><th scope=col>SCG</th><th scope=col>STR</th><th scope=col>LPR</th><th scope=col>PEG</th><th scope=col>UNS</th><th scope=col>Class</th></tr>\n",
       "\t<tr><th scope=col>&lt;dbl&gt;</th><th scope=col>&lt;dbl&gt;</th><th scope=col>&lt;dbl&gt;</th><th scope=col>&lt;dbl&gt;</th><th scope=col>&lt;dbl&gt;</th><th scope=col>&lt;chr&gt;</th><th scope=col>&lt;fct&gt;</th></tr>\n",
       "</thead>\n",
       "<tbody>\n",
       "\t<tr><td>0.00</td><td>0.00</td><td>0.00</td><td>0.00</td><td>0.00</td><td>very_low</td><td>very_low</td></tr>\n",
       "\t<tr><td>0.08</td><td>0.08</td><td>0.10</td><td>0.24</td><td>0.90</td><td>High    </td><td>High    </td></tr>\n",
       "\t<tr><td>0.06</td><td>0.06</td><td>0.05</td><td>0.25</td><td>0.33</td><td>Low     </td><td>Low     </td></tr>\n",
       "\t<tr><td>⋮</td><td>⋮</td><td>⋮</td><td>⋮</td><td>⋮</td><td>⋮</td><td>⋮</td></tr>\n",
       "\t<tr><td>0.54</td><td>0.82</td><td>0.71</td><td>0.29</td><td>0.77</td><td>High  </td><td>High  </td></tr>\n",
       "\t<tr><td>0.50</td><td>0.75</td><td>0.81</td><td>0.61</td><td>0.26</td><td>Middle</td><td>Middle</td></tr>\n",
       "\t<tr><td>0.66</td><td>0.90</td><td>0.76</td><td>0.87</td><td>0.74</td><td>High  </td><td>High  </td></tr>\n",
       "</tbody>\n",
       "</table>\n"
      ],
      "text/latex": [
       "A tibble: 258 × 7\n",
       "\\begin{tabular}{lllllll}\n",
       " STG & SCG & STR & LPR & PEG & UNS & Class\\\\\n",
       " <dbl> & <dbl> & <dbl> & <dbl> & <dbl> & <chr> & <fct>\\\\\n",
       "\\hline\n",
       "\t 0.00 & 0.00 & 0.00 & 0.00 & 0.00 & very\\_low & very\\_low\\\\\n",
       "\t 0.08 & 0.08 & 0.10 & 0.24 & 0.90 & High     & High    \\\\\n",
       "\t 0.06 & 0.06 & 0.05 & 0.25 & 0.33 & Low      & Low     \\\\\n",
       "\t ⋮ & ⋮ & ⋮ & ⋮ & ⋮ & ⋮ & ⋮\\\\\n",
       "\t 0.54 & 0.82 & 0.71 & 0.29 & 0.77 & High   & High  \\\\\n",
       "\t 0.50 & 0.75 & 0.81 & 0.61 & 0.26 & Middle & Middle\\\\\n",
       "\t 0.66 & 0.90 & 0.76 & 0.87 & 0.74 & High   & High  \\\\\n",
       "\\end{tabular}\n"
      ],
      "text/markdown": [
       "\n",
       "A tibble: 258 × 7\n",
       "\n",
       "| STG &lt;dbl&gt; | SCG &lt;dbl&gt; | STR &lt;dbl&gt; | LPR &lt;dbl&gt; | PEG &lt;dbl&gt; | UNS &lt;chr&gt; | Class &lt;fct&gt; |\n",
       "|---|---|---|---|---|---|---|\n",
       "| 0.00 | 0.00 | 0.00 | 0.00 | 0.00 | very_low | very_low |\n",
       "| 0.08 | 0.08 | 0.10 | 0.24 | 0.90 | High     | High     |\n",
       "| 0.06 | 0.06 | 0.05 | 0.25 | 0.33 | Low      | Low      |\n",
       "| ⋮ | ⋮ | ⋮ | ⋮ | ⋮ | ⋮ | ⋮ |\n",
       "| 0.54 | 0.82 | 0.71 | 0.29 | 0.77 | High   | High   |\n",
       "| 0.50 | 0.75 | 0.81 | 0.61 | 0.26 | Middle | Middle |\n",
       "| 0.66 | 0.90 | 0.76 | 0.87 | 0.74 | High   | High   |\n",
       "\n"
      ],
      "text/plain": [
       "    STG  SCG  STR  LPR  PEG  UNS      Class   \n",
       "1   0.00 0.00 0.00 0.00 0.00 very_low very_low\n",
       "2   0.08 0.08 0.10 0.24 0.90 High     High    \n",
       "3   0.06 0.06 0.05 0.25 0.33 Low      Low     \n",
       "⋮   ⋮    ⋮    ⋮    ⋮    ⋮    ⋮        ⋮       \n",
       "256 0.54 0.82 0.71 0.29 0.77 High     High    \n",
       "257 0.50 0.75 0.81 0.61 0.26 Middle   Middle  \n",
       "258 0.66 0.90 0.76 0.87 0.74 High     High    "
      ]
     },
     "metadata": {},
     "output_type": "display_data"
    }
   ],
   "source": [
    "train"
   ]
  },
  {
   "cell_type": "code",
   "execution_count": 39,
   "metadata": {},
   "outputs": [
    {
     "data": {
      "text/html": [
       "<table>\n",
       "<caption>A tibble: 258 × 6</caption>\n",
       "<thead>\n",
       "\t<tr><th scope=col>STG</th><th scope=col>SCG</th><th scope=col>STR</th><th scope=col>LPR</th><th scope=col>PEG</th><th scope=col>UNS</th></tr>\n",
       "\t<tr><th scope=col>&lt;dbl&gt;</th><th scope=col>&lt;dbl&gt;</th><th scope=col>&lt;dbl&gt;</th><th scope=col>&lt;dbl&gt;</th><th scope=col>&lt;dbl&gt;</th><th scope=col>&lt;fct&gt;</th></tr>\n",
       "</thead>\n",
       "<tbody>\n",
       "\t<tr><td>-1.765089</td><td>-1.678008</td><td>-1.902921</td><td>-1.7440515</td><td>-1.796705</td><td>very_low</td></tr>\n",
       "\t<tr><td>-1.384627</td><td>-1.300582</td><td>-1.496317</td><td>-0.7767309</td><td> 1.729790</td><td>High    </td></tr>\n",
       "\t<tr><td>-1.479743</td><td>-1.394939</td><td>-1.699619</td><td>-0.7364259</td><td>-0.503657</td><td>Low     </td></tr>\n",
       "\t<tr><td>⋮</td><td>⋮</td><td>⋮</td><td>⋮</td><td>⋮</td><td>⋮</td></tr>\n",
       "\t<tr><td>0.8030235</td><td>2.190604</td><td>0.983965</td><td>-0.5752058</td><td> 1.220407</td><td>High  </td></tr>\n",
       "\t<tr><td>0.6127930</td><td>1.860357</td><td>1.390569</td><td> 0.7145550</td><td>-0.777940</td><td>Middle</td></tr>\n",
       "\t<tr><td>1.3737150</td><td>2.568030</td><td>1.187267</td><td> 1.7624856</td><td> 1.102857</td><td>High  </td></tr>\n",
       "</tbody>\n",
       "</table>\n"
      ],
      "text/latex": [
       "A tibble: 258 × 6\n",
       "\\begin{tabular}{llllll}\n",
       " STG & SCG & STR & LPR & PEG & UNS\\\\\n",
       " <dbl> & <dbl> & <dbl> & <dbl> & <dbl> & <fct>\\\\\n",
       "\\hline\n",
       "\t -1.765089 & -1.678008 & -1.902921 & -1.7440515 & -1.796705 & very\\_low\\\\\n",
       "\t -1.384627 & -1.300582 & -1.496317 & -0.7767309 &  1.729790 & High    \\\\\n",
       "\t -1.479743 & -1.394939 & -1.699619 & -0.7364259 & -0.503657 & Low     \\\\\n",
       "\t ⋮ & ⋮ & ⋮ & ⋮ & ⋮ & ⋮\\\\\n",
       "\t 0.8030235 & 2.190604 & 0.983965 & -0.5752058 &  1.220407 & High  \\\\\n",
       "\t 0.6127930 & 1.860357 & 1.390569 &  0.7145550 & -0.777940 & Middle\\\\\n",
       "\t 1.3737150 & 2.568030 & 1.187267 &  1.7624856 &  1.102857 & High  \\\\\n",
       "\\end{tabular}\n"
      ],
      "text/markdown": [
       "\n",
       "A tibble: 258 × 6\n",
       "\n",
       "| STG &lt;dbl&gt; | SCG &lt;dbl&gt; | STR &lt;dbl&gt; | LPR &lt;dbl&gt; | PEG &lt;dbl&gt; | UNS &lt;fct&gt; |\n",
       "|---|---|---|---|---|---|\n",
       "| -1.765089 | -1.678008 | -1.902921 | -1.7440515 | -1.796705 | very_low |\n",
       "| -1.384627 | -1.300582 | -1.496317 | -0.7767309 |  1.729790 | High     |\n",
       "| -1.479743 | -1.394939 | -1.699619 | -0.7364259 | -0.503657 | Low      |\n",
       "| ⋮ | ⋮ | ⋮ | ⋮ | ⋮ | ⋮ |\n",
       "| 0.8030235 | 2.190604 | 0.983965 | -0.5752058 |  1.220407 | High   |\n",
       "| 0.6127930 | 1.860357 | 1.390569 |  0.7145550 | -0.777940 | Middle |\n",
       "| 1.3737150 | 2.568030 | 1.187267 |  1.7624856 |  1.102857 | High   |\n",
       "\n"
      ],
      "text/plain": [
       "    STG       SCG       STR       LPR        PEG       UNS     \n",
       "1   -1.765089 -1.678008 -1.902921 -1.7440515 -1.796705 very_low\n",
       "2   -1.384627 -1.300582 -1.496317 -0.7767309  1.729790 High    \n",
       "3   -1.479743 -1.394939 -1.699619 -0.7364259 -0.503657 Low     \n",
       "⋮   ⋮         ⋮         ⋮         ⋮          ⋮         ⋮       \n",
       "256 0.8030235 2.190604  0.983965  -0.5752058  1.220407 High    \n",
       "257 0.6127930 1.860357  1.390569   0.7145550 -0.777940 Middle  \n",
       "258 1.3737150 2.568030  1.187267   1.7624856  1.102857 High    "
      ]
     },
     "metadata": {},
     "output_type": "display_data"
    }
   ],
   "source": [
    "# scale data\n",
    "set.seed(9999) \n",
    "\n",
    "data_recipe<- recipe(UNS ~ STG + SCG + STR + LPR + PEG, data = train) %>%\n",
    "                       step_scale(all_predictors()) %>%\n",
    "                       step_center(all_predictors())\n",
    "\n",
    "data_scaled<- data_recipe %>% prep() %>% bake(train)\n",
    "data_scaled"
   ]
  },
  {
   "cell_type": "code",
   "execution_count": 48,
   "metadata": {},
   "outputs": [],
   "source": [
    "knn_spec <- nearest_neighbor(weight_func = \"rectangular\", neighbors = 5) %>%\n",
    "       set_engine(\"kknn\") %>%\n",
    "       set_mode(\"classification\")\n",
    "data_recipe<- recipe(Class ~ STG + SCG + STR + LPR + PEG, data = train) %>%\n",
    "                       step_scale(all_predictors()) %>%\n",
    "                       step_center(all_predictors())\n",
    "model_fit <- workflow() %>%\n",
    "                   add_recipe(data_recipe) %>%\n",
    "                   add_model(knn_spec)"
   ]
  },
  {
   "cell_type": "code",
   "execution_count": 49,
   "metadata": {},
   "outputs": [
    {
     "data": {
      "text/html": [
       "<table>\n",
       "<caption>A tibble: 145 × 7</caption>\n",
       "<thead>\n",
       "\t<tr><th scope=col>STG</th><th scope=col>SCG</th><th scope=col>STR</th><th scope=col>LPR</th><th scope=col>PEG</th><th scope=col>UNS</th><th scope=col>Class</th></tr>\n",
       "\t<tr><th scope=col>&lt;dbl&gt;</th><th scope=col>&lt;dbl&gt;</th><th scope=col>&lt;dbl&gt;</th><th scope=col>&lt;dbl&gt;</th><th scope=col>&lt;dbl&gt;</th><th scope=col>&lt;chr&gt;</th><th scope=col>&lt;fct&gt;</th></tr>\n",
       "</thead>\n",
       "<tbody>\n",
       "\t<tr><td>0.00</td><td>0.10</td><td>0.50</td><td>0.26</td><td>0.05</td><td>Very Low</td><td>Very Low</td></tr>\n",
       "\t<tr><td>0.05</td><td>0.05</td><td>0.55</td><td>0.60</td><td>0.14</td><td>Low     </td><td>Low     </td></tr>\n",
       "\t<tr><td>0.08</td><td>0.18</td><td>0.63</td><td>0.60</td><td>0.85</td><td>High    </td><td>High    </td></tr>\n",
       "\t<tr><td>⋮</td><td>⋮</td><td>⋮</td><td>⋮</td><td>⋮</td><td>⋮</td><td>⋮</td></tr>\n",
       "\t<tr><td>0.56</td><td>0.60</td><td>0.77</td><td>0.13</td><td>0.32</td><td>Low   </td><td>Low   </td></tr>\n",
       "\t<tr><td>0.66</td><td>0.68</td><td>0.81</td><td>0.57</td><td>0.57</td><td>Middle</td><td>Middle</td></tr>\n",
       "\t<tr><td>0.68</td><td>0.64</td><td>0.79</td><td>0.97</td><td>0.24</td><td>Middle</td><td>Middle</td></tr>\n",
       "</tbody>\n",
       "</table>\n"
      ],
      "text/latex": [
       "A tibble: 145 × 7\n",
       "\\begin{tabular}{lllllll}\n",
       " STG & SCG & STR & LPR & PEG & UNS & Class\\\\\n",
       " <dbl> & <dbl> & <dbl> & <dbl> & <dbl> & <chr> & <fct>\\\\\n",
       "\\hline\n",
       "\t 0.00 & 0.10 & 0.50 & 0.26 & 0.05 & Very Low & Very Low\\\\\n",
       "\t 0.05 & 0.05 & 0.55 & 0.60 & 0.14 & Low      & Low     \\\\\n",
       "\t 0.08 & 0.18 & 0.63 & 0.60 & 0.85 & High     & High    \\\\\n",
       "\t ⋮ & ⋮ & ⋮ & ⋮ & ⋮ & ⋮ & ⋮\\\\\n",
       "\t 0.56 & 0.60 & 0.77 & 0.13 & 0.32 & Low    & Low   \\\\\n",
       "\t 0.66 & 0.68 & 0.81 & 0.57 & 0.57 & Middle & Middle\\\\\n",
       "\t 0.68 & 0.64 & 0.79 & 0.97 & 0.24 & Middle & Middle\\\\\n",
       "\\end{tabular}\n"
      ],
      "text/markdown": [
       "\n",
       "A tibble: 145 × 7\n",
       "\n",
       "| STG &lt;dbl&gt; | SCG &lt;dbl&gt; | STR &lt;dbl&gt; | LPR &lt;dbl&gt; | PEG &lt;dbl&gt; | UNS &lt;chr&gt; | Class &lt;fct&gt; |\n",
       "|---|---|---|---|---|---|---|\n",
       "| 0.00 | 0.10 | 0.50 | 0.26 | 0.05 | Very Low | Very Low |\n",
       "| 0.05 | 0.05 | 0.55 | 0.60 | 0.14 | Low      | Low      |\n",
       "| 0.08 | 0.18 | 0.63 | 0.60 | 0.85 | High     | High     |\n",
       "| ⋮ | ⋮ | ⋮ | ⋮ | ⋮ | ⋮ | ⋮ |\n",
       "| 0.56 | 0.60 | 0.77 | 0.13 | 0.32 | Low    | Low    |\n",
       "| 0.66 | 0.68 | 0.81 | 0.57 | 0.57 | Middle | Middle |\n",
       "| 0.68 | 0.64 | 0.79 | 0.97 | 0.24 | Middle | Middle |\n",
       "\n"
      ],
      "text/plain": [
       "    STG  SCG  STR  LPR  PEG  UNS      Class   \n",
       "1   0.00 0.10 0.50 0.26 0.05 Very Low Very Low\n",
       "2   0.05 0.05 0.55 0.60 0.14 Low      Low     \n",
       "3   0.08 0.18 0.63 0.60 0.85 High     High    \n",
       "⋮   ⋮    ⋮    ⋮    ⋮    ⋮    ⋮        ⋮       \n",
       "143 0.56 0.60 0.77 0.13 0.32 Low      Low     \n",
       "144 0.66 0.68 0.81 0.57 0.57 Middle   Middle  \n",
       "145 0.68 0.64 0.79 0.97 0.24 Middle   Middle  "
      ]
     },
     "metadata": {},
     "output_type": "display_data"
    }
   ],
   "source": [
    "test <- read_excel(\"data/test_data.xlsx\") %>% mutate(Class = as_factor(UNS))\n",
    "test"
   ]
  },
  {
   "cell_type": "code",
   "execution_count": 50,
   "metadata": {},
   "outputs": [
    {
     "data": {
      "text/html": [
       "<table>\n",
       "<caption>A tibble: 145 × 1</caption>\n",
       "<thead>\n",
       "\t<tr><th scope=col>.pred_class</th></tr>\n",
       "\t<tr><th scope=col>&lt;fct&gt;</th></tr>\n",
       "</thead>\n",
       "<tbody>\n",
       "\t<tr><td>very_low</td></tr>\n",
       "\t<tr><td>Low     </td></tr>\n",
       "\t<tr><td>High    </td></tr>\n",
       "\t<tr><td>⋮</td></tr>\n",
       "\t<tr><td>Middle</td></tr>\n",
       "\t<tr><td>Middle</td></tr>\n",
       "\t<tr><td>Middle</td></tr>\n",
       "</tbody>\n",
       "</table>\n"
      ],
      "text/latex": [
       "A tibble: 145 × 1\n",
       "\\begin{tabular}{l}\n",
       " .pred\\_class\\\\\n",
       " <fct>\\\\\n",
       "\\hline\n",
       "\t very\\_low\\\\\n",
       "\t Low     \\\\\n",
       "\t High    \\\\\n",
       "\t ⋮\\\\\n",
       "\t Middle\\\\\n",
       "\t Middle\\\\\n",
       "\t Middle\\\\\n",
       "\\end{tabular}\n"
      ],
      "text/markdown": [
       "\n",
       "A tibble: 145 × 1\n",
       "\n",
       "| .pred_class &lt;fct&gt; |\n",
       "|---|\n",
       "| very_low |\n",
       "| Low      |\n",
       "| High     |\n",
       "| ⋮ |\n",
       "| Middle |\n",
       "| Middle |\n",
       "| Middle |\n",
       "\n"
      ],
      "text/plain": [
       "    .pred_class\n",
       "1   very_low   \n",
       "2   Low        \n",
       "3   High       \n",
       "⋮   ⋮          \n",
       "143 Middle     \n",
       "144 Middle     \n",
       "145 Middle     "
      ]
     },
     "metadata": {},
     "output_type": "display_data"
    }
   ],
   "source": [
    "knn_fit_all <- model_fit %>%\n",
    "             fit(data = train)\n",
    "test_predictions <- predict(knn_fit_all, test)\n",
    "test_predictions"
   ]
  },
  {
   "cell_type": "code",
   "execution_count": 51,
   "metadata": {},
   "outputs": [
    {
     "data": {
      "text/html": [
       "<table>\n",
       "<caption>A tibble: 145 × 6</caption>\n",
       "<thead>\n",
       "\t<tr><th scope=col>Class</th><th scope=col>.pred_class</th><th scope=col>.pred_very_low</th><th scope=col>.pred_High</th><th scope=col>.pred_Low</th><th scope=col>.pred_Middle</th></tr>\n",
       "\t<tr><th scope=col>&lt;fct&gt;</th><th scope=col>&lt;fct&gt;</th><th scope=col>&lt;dbl&gt;</th><th scope=col>&lt;dbl&gt;</th><th scope=col>&lt;dbl&gt;</th><th scope=col>&lt;dbl&gt;</th></tr>\n",
       "</thead>\n",
       "<tbody>\n",
       "\t<tr><td>Very Low</td><td>very_low</td><td>0.8</td><td>0</td><td>0.2</td><td>0.0</td></tr>\n",
       "\t<tr><td>Low     </td><td>Low     </td><td>0.0</td><td>0</td><td>0.8</td><td>0.2</td></tr>\n",
       "\t<tr><td>High    </td><td>High    </td><td>0.0</td><td>1</td><td>0.0</td><td>0.0</td></tr>\n",
       "\t<tr><td>⋮</td><td>⋮</td><td>⋮</td><td>⋮</td><td>⋮</td><td>⋮</td></tr>\n",
       "\t<tr><td>Low   </td><td>Middle</td><td>0</td><td>0.0</td><td>0.2</td><td>0.8</td></tr>\n",
       "\t<tr><td>Middle</td><td>Middle</td><td>0</td><td>0.4</td><td>0.0</td><td>0.6</td></tr>\n",
       "\t<tr><td>Middle</td><td>Middle</td><td>0</td><td>0.2</td><td>0.2</td><td>0.6</td></tr>\n",
       "</tbody>\n",
       "</table>\n"
      ],
      "text/latex": [
       "A tibble: 145 × 6\n",
       "\\begin{tabular}{llllll}\n",
       " Class & .pred\\_class & .pred\\_very\\_low & .pred\\_High & .pred\\_Low & .pred\\_Middle\\\\\n",
       " <fct> & <fct> & <dbl> & <dbl> & <dbl> & <dbl>\\\\\n",
       "\\hline\n",
       "\t Very Low & very\\_low & 0.8 & 0 & 0.2 & 0.0\\\\\n",
       "\t Low      & Low      & 0.0 & 0 & 0.8 & 0.2\\\\\n",
       "\t High     & High     & 0.0 & 1 & 0.0 & 0.0\\\\\n",
       "\t ⋮ & ⋮ & ⋮ & ⋮ & ⋮ & ⋮\\\\\n",
       "\t Low    & Middle & 0 & 0.0 & 0.2 & 0.8\\\\\n",
       "\t Middle & Middle & 0 & 0.4 & 0.0 & 0.6\\\\\n",
       "\t Middle & Middle & 0 & 0.2 & 0.2 & 0.6\\\\\n",
       "\\end{tabular}\n"
      ],
      "text/markdown": [
       "\n",
       "A tibble: 145 × 6\n",
       "\n",
       "| Class &lt;fct&gt; | .pred_class &lt;fct&gt; | .pred_very_low &lt;dbl&gt; | .pred_High &lt;dbl&gt; | .pred_Low &lt;dbl&gt; | .pred_Middle &lt;dbl&gt; |\n",
       "|---|---|---|---|---|---|\n",
       "| Very Low | very_low | 0.8 | 0 | 0.2 | 0.0 |\n",
       "| Low      | Low      | 0.0 | 0 | 0.8 | 0.2 |\n",
       "| High     | High     | 0.0 | 1 | 0.0 | 0.0 |\n",
       "| ⋮ | ⋮ | ⋮ | ⋮ | ⋮ | ⋮ |\n",
       "| Low    | Middle | 0 | 0.0 | 0.2 | 0.8 |\n",
       "| Middle | Middle | 0 | 0.4 | 0.0 | 0.6 |\n",
       "| Middle | Middle | 0 | 0.2 | 0.2 | 0.6 |\n",
       "\n"
      ],
      "text/plain": [
       "    Class    .pred_class .pred_very_low .pred_High .pred_Low .pred_Middle\n",
       "1   Very Low very_low    0.8            0          0.2       0.0         \n",
       "2   Low      Low         0.0            0          0.8       0.2         \n",
       "3   High     High        0.0            1          0.0       0.0         \n",
       "⋮   ⋮        ⋮           ⋮              ⋮          ⋮         ⋮           \n",
       "143 Low      Middle      0              0.0        0.2       0.8         \n",
       "144 Middle   Middle      0              0.4        0.0       0.6         \n",
       "145 Middle   Middle      0              0.2        0.2       0.6         "
      ]
     },
     "metadata": {},
     "output_type": "display_data"
    }
   ],
   "source": [
    "# get prediction on test\n",
    "predicted <- test %>% \n",
    "  bind_cols(predict(knn_fit_all, test)) %>% \n",
    "  bind_cols(predict(knn_fit_all, test, type = \"prob\"))\n",
    "\n",
    "# quick check\n",
    "predicted %>% \n",
    "  select(Class, matches(\".pred\"))\n",
    "\n",
    "# test_pred <- predict(knn_fit_all, new_data = test) %>%\n",
    "#   bind_cols(predict(knn_fit_all, test, type = \"prob\")) %>%\n",
    "#   bind_cols(test %>% select(UNS))"
   ]
  },
  {
   "cell_type": "code",
   "execution_count": 52,
   "metadata": {},
   "outputs": [
    {
     "ename": "ERROR",
     "evalue": "Error: Problem with `summarise()` input `.estimate`.\n\u001b[31m✖\u001b[39m `truth` and `estimate` levels must be equivalent.\n`truth`: Very Low, Low, High, Middle\n`estimate`: very_low, High, Low, Middle\n\n\u001b[34mℹ\u001b[39m Input `.estimate` is `metric_fn(truth = Class, estimate = .pred_class, na_rm = na_rm)`.\n",
     "output_type": "error",
     "traceback": [
      "Error: Problem with `summarise()` input `.estimate`.\n\u001b[31m✖\u001b[39m `truth` and `estimate` levels must be equivalent.\n`truth`: Very Low, Low, High, Middle\n`estimate`: very_low, High, Low, Middle\n\n\u001b[34mℹ\u001b[39m Input `.estimate` is `metric_fn(truth = Class, estimate = .pred_class, na_rm = na_rm)`.\nTraceback:\n",
      "1. predicted %>% accuracy(truth = Class, estimate = .pred_class)",
      "2. withVisible(eval(quote(`_fseq`(`_lhs`)), env, env))",
      "3. eval(quote(`_fseq`(`_lhs`)), env, env)",
      "4. eval(quote(`_fseq`(`_lhs`)), env, env)",
      "5. `_fseq`(`_lhs`)",
      "6. freduce(value, `_function_list`)",
      "7. withVisible(function_list[[k]](value))",
      "8. function_list[[k]](value)",
      "9. accuracy(., truth = Class, estimate = .pred_class)",
      "10. accuracy.data.frame(., truth = Class, estimate = .pred_class)",
      "11. metric_summarizer(metric_nm = \"accuracy\", metric_fn = accuracy_vec, \n  .     data = data, truth = !!enquo(truth), estimate = !!enquo(estimate), \n  .     na_rm = na_rm)",
      "12. dplyr::summarise(data, .metric = metric_nm, .estimator = eval_tidy(finalize_estimator_expr), \n  .     .estimate = metric_fn(truth = !!truth, estimate = !!estimate, \n  .         !!!spliceable_estimator(estimator), na_rm = na_rm, !!!spliceable_event_level(event_level), \n  .         !!!metric_fn_options))",
      "13. summarise.data.frame(data, .metric = metric_nm, .estimator = eval_tidy(finalize_estimator_expr), \n  .     .estimate = metric_fn(truth = !!truth, estimate = !!estimate, \n  .         !!!spliceable_estimator(estimator), na_rm = na_rm, !!!spliceable_event_level(event_level), \n  .         !!!metric_fn_options))",
      "14. summarise_cols(.data, ...)",
      "15. withCallingHandlers({\n  .     for (i in seq_along(dots)) {\n  .         quo <- dots[[i]]\n  .         chunks[[i]] <- mask$eval_all_summarise(quo)\n  .         mask$across_cache_reset()\n  .         result_type <- types[[i]] <- withCallingHandlers(vec_ptype_common(!!!chunks[[i]]), \n  .             vctrs_error_incompatible_type = function(cnd) {\n  .                 abort(class = \"dplyr:::error_summarise_incompatible_combine\", \n  .                   parent = cnd)\n  .             })\n  .         if ((is.null(dots_names) || dots_names[i] == \"\") && is.data.frame(result_type)) {\n  .             map2(seq_along(result_type), names(result_type), \n  .                 function(j, nm) {\n  .                   mask$add(nm, pluck(chunks[[i]], j))\n  .                 })\n  .         }\n  .         else {\n  .             mask$add(auto_named_dots[i], chunks[[i]])\n  .         }\n  .     }\n  .     recycle_info <- .Call(dplyr_summarise_recycle_chunks, chunks, \n  .         mask$get_rows(), types)\n  .     chunks <- recycle_info$chunks\n  .     sizes <- recycle_info$sizes\n  .     for (i in seq_along(dots)) {\n  .         result <- vec_c(!!!chunks[[i]], .ptype = types[[i]])\n  .         if ((is.null(dots_names) || dots_names[i] == \"\") && is.data.frame(result)) {\n  .             cols[names(result)] <- result\n  .         }\n  .         else {\n  .             cols[[auto_named_dots[i]]] <- result\n  .         }\n  .     }\n  . }, error = function(e) {\n  .     local_call_step(dots = dots, .index = i, .fn = \"summarise\", \n  .         .dot_data = inherits(e, \"rlang_error_data_pronoun_not_found\"))\n  .     call_step <- peek_call_step()\n  .     error_name <- call_step$error_name\n  .     if (inherits(e, \"dplyr:::error_summarise_incompatible_combine\")) {\n  .         bullets <- c(x = glue(\"Input `{error_name}` must return compatible vectors across groups\", \n  .             .envir = peek_call_step()), i = cnd_bullet_combine_details(e$parent$x, \n  .             e$parent$x_arg), i = cnd_bullet_combine_details(e$parent$y, \n  .             e$parent$y_arg))\n  .     }\n  .     else if (inherits(e, \"dplyr:::summarise_unsupported_type\")) {\n  .         bullets <- c(x = glue(\"Input `{error_name}` must be a vector, not {friendly_type_of(result)}.\", \n  .             result = e$result), i = cnd_bullet_rowwise_unlist())\n  .     }\n  .     else if (inherits(e, \"dplyr:::summarise_incompatible_size\")) {\n  .         peek_mask()$set_current_group(e$group)\n  .         bullets <- c(x = glue(\"Input `{error_name}` must be size {or_1(expected_size)}, not {size}.\", \n  .             expected_size = e$expected_size, size = e$size), \n  .             i = glue(\"An earlier column had size {expected_size}.\", \n  .                 expected_size = e$expected_size))\n  .     }\n  .     else {\n  .         bullets <- c(x = conditionMessage(e))\n  .     }\n  .     bullets <- c(cnd_bullet_header(), bullets, i = cnd_bullet_input_info())\n  .     if (!inherits(e, \"dplyr:::error_summarise_incompatible_combine\")) {\n  .         bullets <- c(bullets, i = cnd_bullet_cur_group_label())\n  .     }\n  .     abort(bullets, class = \"dplyr_error\")\n  . })",
      "16. mask$eval_all_summarise(quo)",
      "17. metric_fn(truth = ~Class, estimate = ~.pred_class, na_rm = na_rm)",
      "18. metric_vec_template(metric_impl = accuracy_impl, truth = truth, \n  .     estimate = estimate, na_rm = na_rm, estimator = estimator, \n  .     cls = \"factor\", ...)",
      "19. validate_truth_estimate_checks(truth, estimate, cls, estimator)",
      "20. validate_truth_estimate_types(truth, estimate, estimator)",
      "21. validate_truth_estimate_types.factor(truth, estimate, estimator)",
      "22. multiclass_checks(truth, estimate)",
      "23. multiclass_checks.factor(truth, estimate)",
      "24. abort(paste0(\"`truth` and `estimate` levels must be equivalent.\\n\", \n  .     \"`truth`: \", lvls_t, \"\\n\", \"`estimate`: \", lvls_e, \"\\n\"))",
      "25. signal_abort(cnd)",
      "26. signalCondition(cnd)",
      "27. (function (e) \n  . {\n  .     local_call_step(dots = dots, .index = i, .fn = \"summarise\", \n  .         .dot_data = inherits(e, \"rlang_error_data_pronoun_not_found\"))\n  .     call_step <- peek_call_step()\n  .     error_name <- call_step$error_name\n  .     if (inherits(e, \"dplyr:::error_summarise_incompatible_combine\")) {\n  .         bullets <- c(x = glue(\"Input `{error_name}` must return compatible vectors across groups\", \n  .             .envir = peek_call_step()), i = cnd_bullet_combine_details(e$parent$x, \n  .             e$parent$x_arg), i = cnd_bullet_combine_details(e$parent$y, \n  .             e$parent$y_arg))\n  .     }\n  .     else if (inherits(e, \"dplyr:::summarise_unsupported_type\")) {\n  .         bullets <- c(x = glue(\"Input `{error_name}` must be a vector, not {friendly_type_of(result)}.\", \n  .             result = e$result), i = cnd_bullet_rowwise_unlist())\n  .     }\n  .     else if (inherits(e, \"dplyr:::summarise_incompatible_size\")) {\n  .         peek_mask()$set_current_group(e$group)\n  .         bullets <- c(x = glue(\"Input `{error_name}` must be size {or_1(expected_size)}, not {size}.\", \n  .             expected_size = e$expected_size, size = e$size), \n  .             i = glue(\"An earlier column had size {expected_size}.\", \n  .                 expected_size = e$expected_size))\n  .     }\n  .     else {\n  .         bullets <- c(x = conditionMessage(e))\n  .     }\n  .     bullets <- c(cnd_bullet_header(), bullets, i = cnd_bullet_input_info())\n  .     if (!inherits(e, \"dplyr:::error_summarise_incompatible_combine\")) {\n  .         bullets <- c(bullets, i = cnd_bullet_cur_group_label())\n  .     }\n  .     abort(bullets, class = \"dplyr_error\")\n  . })(structure(list(message = \"`truth` and `estimate` levels must be equivalent.\\n`truth`: Very Low, Low, High, Middle\\n`estimate`: very_low, High, Low, Middle\\n\", \n  .     trace = structure(list(calls = list(IRkernel::main(), kernel$run(), \n  .         IRkernel:::handle_shell(), executor$execute(msg), base::tryCatch(evaluate(request$content$code, \n  .             envir = .GlobalEnv, output_handler = oh, stop_on_error = 1L), \n  .             interrupt = function(cond) {\n  .                 log_debug(\"Interrupt during execution\")\n  .                 interrupted <<- TRUE\n  .             }, error = .self$handle_error), base:::tryCatchList(expr, \n  .             classes, parentenv, handlers), base:::tryCatchOne(tryCatchList(expr, \n  .             names[-nh], parentenv, handlers[-nh]), names[nh], \n  .             parentenv, handlers[[nh]]), base:::doTryCatch(return(expr), \n  .             name, parentenv, handler), base:::tryCatchList(expr, \n  .             names[-nh], parentenv, handlers[-nh]), base:::tryCatchOne(expr, \n  .             names, parentenv, handlers[[1L]]), base:::doTryCatch(return(expr), \n  .             name, parentenv, handler), evaluate::evaluate(request$content$code, \n  .             envir = .GlobalEnv, output_handler = oh, stop_on_error = 1L), \n  .         evaluate:::evaluate_call(expr, parsed$src[[i]], envir = envir, \n  .             enclos = enclos, debug = debug, last = i == length(out), \n  .             use_try = stop_on_error != 2L, keep_warning = keep_warning, \n  .             keep_message = keep_message, output_handler = output_handler, \n  .             include_timing = include_timing), evaluate:::timing_fn(handle(ev <- withCallingHandlers(withVisible(eval(expr, \n  .             envir, enclos)), warning = wHandler, error = eHandler, \n  .             message = mHandler))), evaluate:::handle(ev <- withCallingHandlers(withVisible(eval(expr, \n  .             envir, enclos)), warning = wHandler, error = eHandler, \n  .             message = mHandler)), base::try(f, silent = TRUE), \n  .         base::tryCatch(expr, error = function(e) {\n  .             call <- conditionCall(e)\n  .             if (!is.null(call)) {\n  .                 if (identical(call[[1L]], quote(doTryCatch))) \n  .                   call <- sys.call(-4L)\n  .                 dcall <- deparse(call)[1L]\n  .                 prefix <- paste(\"Error in\", dcall, \": \")\n  .                 LONG <- 75L\n  .                 sm <- strsplit(conditionMessage(e), \"\\n\")[[1L]]\n  .                 w <- 14L + nchar(dcall, type = \"w\") + nchar(sm[1L], \n  .                   type = \"w\")\n  .                 if (is.na(w)) \n  .                   w <- 14L + nchar(dcall, type = \"b\") + nchar(sm[1L], \n  .                     type = \"b\")\n  .                 if (w > LONG) \n  .                   prefix <- paste0(prefix, \"\\n  \")\n  .             }\n  .             else prefix <- \"Error : \"\n  .             msg <- paste0(prefix, conditionMessage(e), \"\\n\")\n  .             .Internal(seterrmessage(msg[1L]))\n  .             if (!silent && isTRUE(getOption(\"show.error.messages\"))) {\n  .                 cat(msg, file = outFile)\n  .                 .Internal(printDeferredWarnings())\n  .             }\n  .             invisible(structure(msg, class = \"try-error\", condition = e))\n  .         }), base:::tryCatchList(expr, classes, parentenv, handlers), \n  .         base:::tryCatchOne(expr, names, parentenv, handlers[[1L]]), \n  .         base:::doTryCatch(return(expr), name, parentenv, handler), \n  .         base::withCallingHandlers(withVisible(eval(expr, envir, \n  .             enclos)), warning = wHandler, error = eHandler, message = mHandler), \n  .         base::withVisible(eval(expr, envir, enclos)), base::eval(expr, \n  .             envir, enclos), base::eval(expr, envir, enclos), \n  .         predicted %>% accuracy(truth = Class, estimate = .pred_class), \n  .         base::withVisible(eval(quote(`_fseq`(`_lhs`)), env, env)), \n  .         base::eval(quote(`_fseq`(`_lhs`)), env, env), base::eval(quote(`_fseq`(`_lhs`)), \n  .             env, env), `_fseq`(`_lhs`), magrittr::freduce(value, \n  .             `_function_list`), base::withVisible(function_list[[k]](value)), \n  .         function_list[[k]](value), yardstick::accuracy(., truth = Class, \n  .             estimate = .pred_class), yardstick:::accuracy.data.frame(., \n  .             truth = Class, estimate = .pred_class), yardstick::metric_summarizer(metric_nm = \"accuracy\", \n  .             metric_fn = accuracy_vec, data = data, truth = !!enquo(truth), \n  .             estimate = !!enquo(estimate), na_rm = na_rm), dplyr::summarise(data, \n  .             .metric = metric_nm, .estimator = eval_tidy(finalize_estimator_expr), \n  .             .estimate = metric_fn(truth = !!truth, estimate = !!estimate, \n  .                 !!!spliceable_estimator(estimator), na_rm = na_rm, \n  .                 !!!spliceable_event_level(event_level), !!!metric_fn_options)), \n  .         dplyr:::summarise.data.frame(data, .metric = metric_nm, \n  .             .estimator = eval_tidy(finalize_estimator_expr), \n  .             .estimate = metric_fn(truth = !!truth, estimate = !!estimate, \n  .                 !!!spliceable_estimator(estimator), na_rm = na_rm, \n  .                 !!!spliceable_event_level(event_level), !!!metric_fn_options)), \n  .         dplyr:::summarise_cols(.data, ...), base::withCallingHandlers({\n  .             for (i in seq_along(dots)) {\n  .                 quo <- dots[[i]]\n  .                 chunks[[i]] <- mask$eval_all_summarise(quo)\n  .                 mask$across_cache_reset()\n  .                 result_type <- types[[i]] <- withCallingHandlers(vec_ptype_common(!!!chunks[[i]]), \n  .                   vctrs_error_incompatible_type = function(cnd) {\n  .                     abort(class = \"dplyr:::error_summarise_incompatible_combine\", \n  .                       parent = cnd)\n  .                   })\n  .                 if ((is.null(dots_names) || dots_names[i] == \n  .                   \"\") && is.data.frame(result_type)) {\n  .                   map2(seq_along(result_type), names(result_type), \n  .                     function(j, nm) {\n  .                       mask$add(nm, pluck(chunks[[i]], j))\n  .                     })\n  .                 }\n  .                 else {\n  .                   mask$add(auto_named_dots[i], chunks[[i]])\n  .                 }\n  .             }\n  .             recycle_info <- .Call(dplyr_summarise_recycle_chunks, \n  .                 chunks, mask$get_rows(), types)\n  .             chunks <- recycle_info$chunks\n  .             sizes <- recycle_info$sizes\n  .             for (i in seq_along(dots)) {\n  .                 result <- vec_c(!!!chunks[[i]], .ptype = types[[i]])\n  .                 if ((is.null(dots_names) || dots_names[i] == \n  .                   \"\") && is.data.frame(result)) {\n  .                   cols[names(result)] <- result\n  .                 }\n  .                 else {\n  .                   cols[[auto_named_dots[i]]] <- result\n  .                 }\n  .             }\n  .         }, error = function(e) {\n  .             local_call_step(dots = dots, .index = i, .fn = \"summarise\", \n  .                 .dot_data = inherits(e, \"rlang_error_data_pronoun_not_found\"))\n  .             call_step <- peek_call_step()\n  .             error_name <- call_step$error_name\n  .             if (inherits(e, \"dplyr:::error_summarise_incompatible_combine\")) {\n  .                 bullets <- c(x = glue(\"Input `{error_name}` must return compatible vectors across groups\", \n  .                   .envir = peek_call_step()), i = cnd_bullet_combine_details(e$parent$x, \n  .                   e$parent$x_arg), i = cnd_bullet_combine_details(e$parent$y, \n  .                   e$parent$y_arg))\n  .             }\n  .             else if (inherits(e, \"dplyr:::summarise_unsupported_type\")) {\n  .                 bullets <- c(x = glue(\"Input `{error_name}` must be a vector, not {friendly_type_of(result)}.\", \n  .                   result = e$result), i = cnd_bullet_rowwise_unlist())\n  .             }\n  .             else if (inherits(e, \"dplyr:::summarise_incompatible_size\")) {\n  .                 peek_mask()$set_current_group(e$group)\n  .                 bullets <- c(x = glue(\"Input `{error_name}` must be size {or_1(expected_size)}, not {size}.\", \n  .                   expected_size = e$expected_size, size = e$size), \n  .                   i = glue(\"An earlier column had size {expected_size}.\", \n  .                     expected_size = e$expected_size))\n  .             }\n  .             else {\n  .                 bullets <- c(x = conditionMessage(e))\n  .             }\n  .             bullets <- c(cnd_bullet_header(), bullets, i = cnd_bullet_input_info())\n  .             if (!inherits(e, \"dplyr:::error_summarise_incompatible_combine\")) {\n  .                 bullets <- c(bullets, i = cnd_bullet_cur_group_label())\n  .             }\n  .             abort(bullets, class = \"dplyr_error\")\n  .         }), mask$eval_all_summarise(quo), yardstick:::metric_fn(truth = ~Class, \n  .             estimate = ~.pred_class, na_rm = na_rm), yardstick::metric_vec_template(metric_impl = accuracy_impl, \n  .             truth = truth, estimate = estimate, na_rm = na_rm, \n  .             estimator = estimator, cls = \"factor\", ...), yardstick:::validate_truth_estimate_checks(truth, \n  .             estimate, cls, estimator), yardstick:::validate_truth_estimate_types(truth, \n  .             estimate, estimator), yardstick:::validate_truth_estimate_types.factor(truth, \n  .             estimate, estimator), yardstick:::multiclass_checks(truth, \n  .             estimate), yardstick:::multiclass_checks.factor(truth, \n  .             estimate)), parents = c(0L, 1L, 2L, 3L, 4L, 5L, 6L, \n  .     7L, 6L, 9L, 10L, 4L, 12L, 13L, 13L, 15L, 16L, 17L, 18L, 19L, \n  .     13L, 13L, 13L, 23L, 0L, 25L, 25L, 27L, 28L, 29L, 30L, 30L, \n  .     32L, 32L, 34L, 35L, 35L, 37L, 38L, 38L, 0L, 41L, 42L, 43L, \n  .     43L, 45L, 45L), ids = c(\"0x55cb946ccdb8\", \"0x55cb94dc2eb0\", \n  .     \"0x55cb98dd8068\", \"0x55cb987f3f98\", \"0x55cb96f16908\", \"0x55cb968eeb38\", \n  .     \"0x55cb968e2ae8\", \"0x55cb968e2e68\", \"0x55cb968c1a78\", \"0x55cb968c2808\", \n  .     \"0x55cb9687d3c0\", \"0x55cb96878f30\", \"0x55cb96259de0\", \"0x55cb9623ddf8\", \n  .     \"0x55cb9623ded8\", \"0x55cb96239e60\", \"0x55cb9623a1e0\", \"0x55cb9623b088\", \n  .     \"0x55cb9623b558\", \"0x55cb9623ba60\", \"0x55cb96237318\", \"0x55cb962379e0\", \n  .     \"0x55cb96237eb0\", \"global\", \"0x55cb96238118\", \"0x55cb96227ed0\", \n  .     \"0x55cb96228100\", \"0x55cb96238540\", \"0x55cb962282c0\", \"0x55cb962284b8\", \n  .     \"0x55cb96228608\", \"0x55cb962286e8\", \"0x55cb96224108\", \"0x55cb96224530\", \n  .     \"0x55cb96224cd8\", \"0x55cb962099e8\", \"0x55cb96209eb8\", \"0x55cb9620a238\", \n  .     \"0x55cb9580ef70\", \"0x55cb953e6798\", \"0x55cb9530b320\", \"0x55cb94d00218\", \n  .     \"0x55cb94d00a30\", \"0x55cb94b0d858\", \"0x55cb94b07758\", \"0x55cb94afe218\", \n  .     \"0x55cb94afe9f8\"), indices = 1:47), class = \"rlang_trace\"), \n  .     parent = NULL), class = c(\"rlang_error\", \"error\", \"condition\"\n  . )))",
      "28. abort(bullets, class = \"dplyr_error\")",
      "29. signal_abort(cnd)"
     ]
    }
   ],
   "source": [
    "predict_accuracy <- predicted %>% accuracy(truth = Class, estimate=.pred_class)"
   ]
  },
  {
   "cell_type": "code",
   "execution_count": null,
   "metadata": {},
   "outputs": [],
   "source": []
  }
 ],
 "metadata": {
  "kernelspec": {
   "display_name": "R",
   "language": "R",
   "name": "ir"
  },
  "language_info": {
   "codemirror_mode": "r",
   "file_extension": ".r",
   "mimetype": "text/x-r-source",
   "name": "R",
   "pygments_lexer": "r",
   "version": "4.0.0"
  }
 },
 "nbformat": 4,
 "nbformat_minor": 4
}
